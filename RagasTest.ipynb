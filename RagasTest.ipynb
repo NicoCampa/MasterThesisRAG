{
 "cells": [
  {
   "cell_type": "code",
   "execution_count": 1,
   "metadata": {},
   "outputs": [],
   "source": [
    "from langchain.document_loaders import TextLoader\n",
    "from langchain.text_splitter import RecursiveCharacterTextSplitter\n",
    "import os\n",
    "os.environ[\"OPENAI_API_KEY\"] = \"\"\n",
    "\n",
    "loader = TextLoader(\"./data/testContext.txt\")\n",
    "docs = loader.load()\n",
    "\n",
    "text_splitter = RecursiveCharacterTextSplitter(\n",
    "    chunk_size=350,\n",
    "    chunk_overlap=20,\n",
    "    length_function=len,\n",
    "    is_separator_regex=False,\n",
    ")\n",
    "chunks = text_splitter.split_documents(docs)"
   ]
  },
  {
   "cell_type": "code",
   "execution_count": 2,
   "metadata": {},
   "outputs": [
    {
     "data": {
      "text/plain": [
       "Document(metadata={'source': './data/testContext.txt'}, page_content='The Eiffel Tower is a wrought-iron lattice tower located in Paris, France.\\nIt was designed by the French engineer Gustave Eiffel and was completed in 1889 as the entrance arch to the 1889 World’s Fair.')"
      ]
     },
     "execution_count": 2,
     "metadata": {},
     "output_type": "execute_result"
    }
   ],
   "source": [
    "chunks[0]"
   ]
  },
  {
   "cell_type": "code",
   "execution_count": 3,
   "metadata": {},
   "outputs": [],
   "source": [
    "# RAGAS expects a file_name dict as key\n",
    "for document in chunks:\n",
    "    document.metadata[\"file_name\"] = document.metadata[\"source\"]"
   ]
  },
  {
   "cell_type": "code",
   "execution_count": 24,
   "metadata": {},
   "outputs": [
    {
     "name": "stderr",
     "output_type": "stream",
     "text": [
      "Generating personas: 100%|██████████| 1/1 [00:03<00:00,  3.26s/it]                                         \n",
      "Generating Scenarios: 100%|██████████| 1/1 [00:01<00:00,  1.70s/it]\n",
      "Generating Samples: 100%|██████████| 10/10 [00:03<00:00,  2.55it/s]\n"
     ]
    }
   ],
   "source": [
    "from ragas.testset import TestsetGenerator\n",
    "from ragas.llms import LangchainLLMWrapper\n",
    "from ragas.embeddings import LangchainEmbeddingsWrapper\n",
    "\n",
    "generator_llm = LangchainLLMWrapper(ChatOpenAI(model=\"gpt-4o-mini\"))\n",
    "generator_embeddings = LangchainEmbeddingsWrapper(OllamaEmbeddings(model=\"nomic-embed-text\"))\n",
    "generator = TestsetGenerator(llm=generator_llm, embedding_model=generator_embeddings)\n",
    "dataset = generator.generate_with_langchain_docs(docs, testset_size=10)"
   ]
  },
  {
   "cell_type": "code",
   "execution_count": 25,
   "metadata": {},
   "outputs": [
    {
     "data": {
      "text/html": [
       "<div>\n",
       "<style scoped>\n",
       "    .dataframe tbody tr th:only-of-type {\n",
       "        vertical-align: middle;\n",
       "    }\n",
       "\n",
       "    .dataframe tbody tr th {\n",
       "        vertical-align: top;\n",
       "    }\n",
       "\n",
       "    .dataframe thead th {\n",
       "        text-align: right;\n",
       "    }\n",
       "</style>\n",
       "<table border=\"1\" class=\"dataframe\">\n",
       "  <thead>\n",
       "    <tr style=\"text-align: right;\">\n",
       "      <th></th>\n",
       "      <th>user_input</th>\n",
       "      <th>reference_contexts</th>\n",
       "      <th>reference</th>\n",
       "      <th>synthesizer_name</th>\n",
       "    </tr>\n",
       "  </thead>\n",
       "  <tbody>\n",
       "    <tr>\n",
       "      <th>0</th>\n",
       "      <td>What significant event is associated with the ...</td>\n",
       "      <td>[The Eiffel Tower is a wrought-iron lattice to...</td>\n",
       "      <td>The Eiffel Tower was completed in 1889 as the ...</td>\n",
       "      <td>single_hop_specifc_query_synthesizer</td>\n",
       "    </tr>\n",
       "    <tr>\n",
       "      <th>1</th>\n",
       "      <td>What was the significance of the Eiffel Tower ...</td>\n",
       "      <td>[The Eiffel Tower is a wrought-iron lattice to...</td>\n",
       "      <td>The Eiffel Tower was completed in 1889 as the ...</td>\n",
       "      <td>single_hop_specifc_query_synthesizer</td>\n",
       "    </tr>\n",
       "    <tr>\n",
       "      <th>2</th>\n",
       "      <td>What is the significance of the Chryslur Buldi...</td>\n",
       "      <td>[The Eiffel Tower is a wrought-iron lattice to...</td>\n",
       "      <td>The Chrysler Building is significant as it was...</td>\n",
       "      <td>single_hop_specifc_query_synthesizer</td>\n",
       "    </tr>\n",
       "    <tr>\n",
       "      <th>3</th>\n",
       "      <td>How does the Eiffel Tower compare to the Chrys...</td>\n",
       "      <td>[The Eiffel Tower is a wrought-iron lattice to...</td>\n",
       "      <td>The Eiffel Tower, completed in 1889, was the t...</td>\n",
       "      <td>single_hop_specifc_query_synthesizer</td>\n",
       "    </tr>\n",
       "    <tr>\n",
       "      <th>4</th>\n",
       "      <td>What significant event is associated with the ...</td>\n",
       "      <td>[The Eiffel Tower is a wrought-iron lattice to...</td>\n",
       "      <td>The Eiffel Tower was completed in 1889 as the ...</td>\n",
       "      <td>single_hop_specifc_query_synthesizer</td>\n",
       "    </tr>\n",
       "    <tr>\n",
       "      <th>5</th>\n",
       "      <td>How does the Eiffel Tower compare to the Chrys...</td>\n",
       "      <td>[The Eiffel Tower is a wrought-iron lattice to...</td>\n",
       "      <td>The Eiffel Tower, designed by Gustave Eiffel a...</td>\n",
       "      <td>single_hop_specifc_query_synthesizer</td>\n",
       "    </tr>\n",
       "    <tr>\n",
       "      <th>6</th>\n",
       "      <td>What is the significance of New York City in r...</td>\n",
       "      <td>[The Eiffel Tower is a wrought-iron lattice to...</td>\n",
       "      <td>New York City is significant in relation to th...</td>\n",
       "      <td>single_hop_specifc_query_synthesizer</td>\n",
       "    </tr>\n",
       "    <tr>\n",
       "      <th>7</th>\n",
       "      <td>Eiffel Tower where in France?</td>\n",
       "      <td>[The Eiffel Tower is a wrought-iron lattice to...</td>\n",
       "      <td>The Eiffel Tower is located in Paris, France.</td>\n",
       "      <td>single_hop_specifc_query_synthesizer</td>\n",
       "    </tr>\n",
       "    <tr>\n",
       "      <th>8</th>\n",
       "      <td>Wher is the Eiffel Tower located?</td>\n",
       "      <td>[The Eiffel Tower is a wrought-iron lattice to...</td>\n",
       "      <td>The Eiffel Tower is located in Paris, France.</td>\n",
       "      <td>single_hop_specifc_query_synthesizer</td>\n",
       "    </tr>\n",
       "    <tr>\n",
       "      <th>9</th>\n",
       "      <td>What is the Eifel Tower?</td>\n",
       "      <td>[The Eiffel Tower is a wrought-iron lattice to...</td>\n",
       "      <td>The Eiffel Tower is a wrought-iron lattice tow...</td>\n",
       "      <td>single_hop_specifc_query_synthesizer</td>\n",
       "    </tr>\n",
       "  </tbody>\n",
       "</table>\n",
       "</div>"
      ],
      "text/plain": [
       "                                          user_input  \\\n",
       "0  What significant event is associated with the ...   \n",
       "1  What was the significance of the Eiffel Tower ...   \n",
       "2  What is the significance of the Chryslur Buldi...   \n",
       "3  How does the Eiffel Tower compare to the Chrys...   \n",
       "4  What significant event is associated with the ...   \n",
       "5  How does the Eiffel Tower compare to the Chrys...   \n",
       "6  What is the significance of New York City in r...   \n",
       "7                      Eiffel Tower where in France?   \n",
       "8                  Wher is the Eiffel Tower located?   \n",
       "9                           What is the Eifel Tower?   \n",
       "\n",
       "                                  reference_contexts  \\\n",
       "0  [The Eiffel Tower is a wrought-iron lattice to...   \n",
       "1  [The Eiffel Tower is a wrought-iron lattice to...   \n",
       "2  [The Eiffel Tower is a wrought-iron lattice to...   \n",
       "3  [The Eiffel Tower is a wrought-iron lattice to...   \n",
       "4  [The Eiffel Tower is a wrought-iron lattice to...   \n",
       "5  [The Eiffel Tower is a wrought-iron lattice to...   \n",
       "6  [The Eiffel Tower is a wrought-iron lattice to...   \n",
       "7  [The Eiffel Tower is a wrought-iron lattice to...   \n",
       "8  [The Eiffel Tower is a wrought-iron lattice to...   \n",
       "9  [The Eiffel Tower is a wrought-iron lattice to...   \n",
       "\n",
       "                                           reference  \\\n",
       "0  The Eiffel Tower was completed in 1889 as the ...   \n",
       "1  The Eiffel Tower was completed in 1889 as the ...   \n",
       "2  The Chrysler Building is significant as it was...   \n",
       "3  The Eiffel Tower, completed in 1889, was the t...   \n",
       "4  The Eiffel Tower was completed in 1889 as the ...   \n",
       "5  The Eiffel Tower, designed by Gustave Eiffel a...   \n",
       "6  New York City is significant in relation to th...   \n",
       "7      The Eiffel Tower is located in Paris, France.   \n",
       "8      The Eiffel Tower is located in Paris, France.   \n",
       "9  The Eiffel Tower is a wrought-iron lattice tow...   \n",
       "\n",
       "                       synthesizer_name  \n",
       "0  single_hop_specifc_query_synthesizer  \n",
       "1  single_hop_specifc_query_synthesizer  \n",
       "2  single_hop_specifc_query_synthesizer  \n",
       "3  single_hop_specifc_query_synthesizer  \n",
       "4  single_hop_specifc_query_synthesizer  \n",
       "5  single_hop_specifc_query_synthesizer  \n",
       "6  single_hop_specifc_query_synthesizer  \n",
       "7  single_hop_specifc_query_synthesizer  \n",
       "8  single_hop_specifc_query_synthesizer  \n",
       "9  single_hop_specifc_query_synthesizer  "
      ]
     },
     "execution_count": 25,
     "metadata": {},
     "output_type": "execute_result"
    }
   ],
   "source": [
    "dataset.to_pandas()"
   ]
  },
  {
   "cell_type": "code",
   "execution_count": 55,
   "metadata": {},
   "outputs": [],
   "source": [
    "from langchain_community.vectorstores import Chroma\n",
    "from langchain_openai import ChatOpenAI\n",
    "from langchain_ollama.llms import OllamaLLM\n",
    "\n",
    "embedding = OllamaEmbeddings(model=\"nomic-embed-text\")\n",
    "model = OllamaLLM(model=\"llama3.2:3b\")\n",
    "\n",
    "vectorstore = Chroma.from_documents(chunks, embedding)\n",
    "retriever = vectorstore.as_retriever()"
   ]
  },
  {
   "cell_type": "code",
   "execution_count": 56,
   "metadata": {},
   "outputs": [],
   "source": [
    "from langchain_core.prompts import PromptTemplate\n",
    "\n",
    "template = \"\"\"Answer the question based only on the following context:\n",
    "{context}\n",
    "\n",
    "Question: {question}\n",
    "\"\"\"\n",
    "\n",
    "prompt = PromptTemplate(template=template, input_variables=[\"context\", \"question\"])"
   ]
  },
  {
   "cell_type": "code",
   "execution_count": 57,
   "metadata": {},
   "outputs": [
    {
     "name": "stdout",
     "output_type": "stream",
     "text": [
      "first={\n",
      "  context: VectorStoreRetriever(tags=['Chroma', 'OllamaEmbeddings'], vectorstore=<langchain_community.vectorstores.chroma.Chroma object at 0x148c373d0>, search_kwargs={}),\n",
      "  question: RunnablePassthrough()\n",
      "} middle=[PromptTemplate(input_variables=['context', 'question'], input_types={}, partial_variables={}, template='Answer the question based only on the following context:\\n{context}\\n\\nQuestion: {question}\\n'), OllamaLLM(model='llama3.2:3b')] last=StrOutputParser()\n"
     ]
    }
   ],
   "source": [
    "from langchain.schema.runnable import RunnablePassthrough\n",
    "from langchain.schema.output_parser import StrOutputParser\n",
    "\n",
    "rag_chain = (\n",
    "    {\"context\": retriever, \"question\": RunnablePassthrough()}\n",
    "    | prompt\n",
    "    | model\n",
    "    | StrOutputParser()\n",
    ")\n",
    "print(rag_chain)"
   ]
  },
  {
   "cell_type": "code",
   "execution_count": 58,
   "metadata": {},
   "outputs": [],
   "source": [
    "import pandas as pd\n",
    "\n",
    "df = pd.read_csv(\"qa.csv\", delimiter=\",\")\n",
    "questions = df[\"question\"].tolist()\n",
    "ground_truth = df[\"ground_truth\"].tolist()"
   ]
  },
  {
   "cell_type": "code",
   "execution_count": 59,
   "metadata": {},
   "outputs": [
    {
     "data": {
      "text/plain": [
       "['The Eiffel Tower was designed by the French engineer Gustave Eiffel.',\n",
       " 'The Eiffel Tower was completed in 1889 as the entrance arch to the 1889 World’s Fair.',\n",
       " 'The Eiffel Tower is 330 meters (1,083 feet) tall.',\n",
       " 'The Eiffel Tower was the tallest man-made structure until the Chrysler Building was finished in 1930.',\n",
       " 'The third level of the Eiffel Tower has an observation deck.']"
      ]
     },
     "execution_count": 59,
     "metadata": {},
     "output_type": "execute_result"
    }
   ],
   "source": [
    "ground_truth"
   ]
  },
  {
   "cell_type": "code",
   "execution_count": 60,
   "metadata": {},
   "outputs": [],
   "source": [
    "from datasets import Dataset\n",
    "\n",
    "data = {\"question\": [], \"answer\": [], \"contexts\": [], \"ground_truth\": ground_truth}\n",
    "\n",
    "for query in questions:\n",
    "    data[\"question\"].append(query)\n",
    "    data[\"answer\"].append(rag_chain.invoke(query))\n",
    "    data[\"contexts\"].append(\n",
    "        [doc.page_content for doc in retriever.invoke(query)]\n",
    "    )\n",
    "\n",
    "dataset = Dataset.from_dict(data)"
   ]
  },
  {
   "cell_type": "code",
   "execution_count": 61,
   "metadata": {},
   "outputs": [
    {
     "data": {
      "text/plain": [
       "{'question': 'Who designed the Eiffel Tower?',\n",
       " 'answer': 'Gustave Eiffel.',\n",
       " 'contexts': ['The Eiffel Tower is a wrought-iron lattice tower located in Paris, France.\\nIt was designed by the French engineer Gustave Eiffel and was completed in 1889 as the entrance arch to the 1889 World’s Fair.',\n",
       "  'The Eiffel Tower is a wrought-iron lattice tower located in Paris, France.\\nIt was designed by the French engineer Gustave Eiffel and was completed in 1889 as the entrance arch to the 1889 World’s Fair.',\n",
       "  'The Eiffel Tower is a wrought-iron lattice tower located in Paris, France.\\nIt was designed by the French engineer Gustave Eiffel and was completed in 1889 as the entrance arch to the 1889 World’s Fair.',\n",
       "  'Standing 330 meters (1,083 feet) tall, it was the tallest man-made structure in the world for 41 years until the Chrysler Building in New York City was finished in 1930.\\nThe Eiffel Tower is one of the most-visited paid monuments in the world, attracting millions of visitors every year.'],\n",
       " 'ground_truth': 'The Eiffel Tower was designed by the French engineer Gustave Eiffel.'}"
      ]
     },
     "execution_count": 61,
     "metadata": {},
     "output_type": "execute_result"
    }
   ],
   "source": [
    "first_entry = {\n",
    "    \"question\": data[\"question\"][0],\n",
    "    \"answer\": data[\"answer\"][0],\n",
    "    \"contexts\": data[\"contexts\"][0],\n",
    "    \"ground_truth\": data[\"ground_truth\"][0],\n",
    "}\n",
    "first_entry"
   ]
  },
  {
   "cell_type": "code",
   "execution_count": 62,
   "metadata": {},
   "outputs": [
    {
     "name": "stderr",
     "output_type": "stream",
     "text": [
      "Evaluating: 100%|██████████| 20/20 [00:15<00:00,  1.33it/s]\n"
     ]
    }
   ],
   "source": [
    "from ragas import evaluate\n",
    "\n",
    "your_evaluator_llm = LangchainLLMWrapper(ChatOpenAI(model=\"gpt-4o-mini\"))\n",
    "\n",
    "from ragas.metrics import (\n",
    "    faithfulness,\n",
    "    answer_relevancy,\n",
    "    context_recall,\n",
    "    context_precision,\n",
    ")\n",
    "\n",
    "result = evaluate(\n",
    "    dataset=dataset,\n",
    "    metrics=[\n",
    "        context_precision,\n",
    "        context_recall,\n",
    "        faithfulness,\n",
    "        answer_relevancy,\n",
    "    ],\n",
    "    llm=your_evaluator_llm\n",
    ")"
   ]
  },
  {
   "cell_type": "code",
   "execution_count": 63,
   "metadata": {},
   "outputs": [
    {
     "data": {
      "text/html": [
       "<div>\n",
       "<style scoped>\n",
       "    .dataframe tbody tr th:only-of-type {\n",
       "        vertical-align: middle;\n",
       "    }\n",
       "\n",
       "    .dataframe tbody tr th {\n",
       "        vertical-align: top;\n",
       "    }\n",
       "\n",
       "    .dataframe thead th {\n",
       "        text-align: right;\n",
       "    }\n",
       "</style>\n",
       "<table border=\"1\" class=\"dataframe\">\n",
       "  <thead>\n",
       "    <tr style=\"text-align: right;\">\n",
       "      <th></th>\n",
       "      <th>user_input</th>\n",
       "      <th>retrieved_contexts</th>\n",
       "      <th>response</th>\n",
       "      <th>reference</th>\n",
       "      <th>context_precision</th>\n",
       "      <th>context_recall</th>\n",
       "      <th>faithfulness</th>\n",
       "      <th>answer_relevancy</th>\n",
       "    </tr>\n",
       "  </thead>\n",
       "  <tbody>\n",
       "    <tr>\n",
       "      <th>0</th>\n",
       "      <td>Who designed the Eiffel Tower?</td>\n",
       "      <td>[The Eiffel Tower is a wrought-iron lattice tower located in Paris, France.\\nIt was designed by the French engineer Gustave Eiffel and was completed in 1889 as the entrance arch to the 1889 World’s Fair., The Eiffel Tower is a wrought-iron lattice tower located in Paris, France.\\nIt was designed by the French engineer Gustave Eiffel and was completed in 1889 as the entrance arch to the 1889 World’s Fair., The Eiffel Tower is a wrought-iron lattice tower located in Paris, France.\\nIt was designed by the French engineer Gustave Eiffel and was completed in 1889 as the entrance arch to the 1889 World’s Fair., Standing 330 meters (1,083 feet) tall, it was the tallest man-made structure in the world for 41 years until the Chrysler Building in New York City was finished in 1930.\\nThe Eiffel Tower is one of the most-visited paid monuments in the world, attracting millions of visitors every year.]</td>\n",
       "      <td>Gustave Eiffel.</td>\n",
       "      <td>The Eiffel Tower was designed by the French engineer Gustave Eiffel.</td>\n",
       "      <td>1.0</td>\n",
       "      <td>1.0</td>\n",
       "      <td>1.000000</td>\n",
       "      <td>1.000000</td>\n",
       "    </tr>\n",
       "    <tr>\n",
       "      <th>1</th>\n",
       "      <td>When was the Eiffel Tower completed?</td>\n",
       "      <td>[The Eiffel Tower is a wrought-iron lattice tower located in Paris, France.\\nIt was designed by the French engineer Gustave Eiffel and was completed in 1889 as the entrance arch to the 1889 World’s Fair., The Eiffel Tower is a wrought-iron lattice tower located in Paris, France.\\nIt was designed by the French engineer Gustave Eiffel and was completed in 1889 as the entrance arch to the 1889 World’s Fair., The Eiffel Tower is a wrought-iron lattice tower located in Paris, France.\\nIt was designed by the French engineer Gustave Eiffel and was completed in 1889 as the entrance arch to the 1889 World’s Fair., Standing 330 meters (1,083 feet) tall, it was the tallest man-made structure in the world for 41 years until the Chrysler Building in New York City was finished in 1930.\\nThe Eiffel Tower is one of the most-visited paid monuments in the world, attracting millions of visitors every year.]</td>\n",
       "      <td>The Eiffel Tower was completed in 1889.</td>\n",
       "      <td>The Eiffel Tower was completed in 1889 as the entrance arch to the 1889 World’s Fair.</td>\n",
       "      <td>1.0</td>\n",
       "      <td>1.0</td>\n",
       "      <td>1.000000</td>\n",
       "      <td>1.000000</td>\n",
       "    </tr>\n",
       "    <tr>\n",
       "      <th>2</th>\n",
       "      <td>How tall is the Eiffel Tower?</td>\n",
       "      <td>[Standing 330 meters (1,083 feet) tall, it was the tallest man-made structure in the world for 41 years until the Chrysler Building in New York City was finished in 1930.\\nThe Eiffel Tower is one of the most-visited paid monuments in the world, attracting millions of visitors every year., Standing 330 meters (1,083 feet) tall, it was the tallest man-made structure in the world for 41 years until the Chrysler Building in New York City was finished in 1930.\\nThe Eiffel Tower is one of the most-visited paid monuments in the world, attracting millions of visitors every year., Standing 330 meters (1,083 feet) tall, it was the tallest man-made structure in the world for 41 years until the Chrysler Building in New York City was finished in 1930.\\nThe Eiffel Tower is one of the most-visited paid monuments in the world, attracting millions of visitors every year., The Eiffel Tower is a wrought-iron lattice tower located in Paris, France.\\nIt was designed by the French engineer Gustave Eiffel and was completed in 1889 as the entrance arch to the 1889 World’s Fair.]</td>\n",
       "      <td>The Eiffel Tower is standing 330 meters (1,083 feet) tall.</td>\n",
       "      <td>The Eiffel Tower is 330 meters (1,083 feet) tall.</td>\n",
       "      <td>1.0</td>\n",
       "      <td>1.0</td>\n",
       "      <td>1.000000</td>\n",
       "      <td>1.000000</td>\n",
       "    </tr>\n",
       "    <tr>\n",
       "      <th>3</th>\n",
       "      <td>What was the tallest man-made structure before it?</td>\n",
       "      <td>[Standing 330 meters (1,083 feet) tall, it was the tallest man-made structure in the world for 41 years until the Chrysler Building in New York City was finished in 1930.\\nThe Eiffel Tower is one of the most-visited paid monuments in the world, attracting millions of visitors every year., Standing 330 meters (1,083 feet) tall, it was the tallest man-made structure in the world for 41 years until the Chrysler Building in New York City was finished in 1930.\\nThe Eiffel Tower is one of the most-visited paid monuments in the world, attracting millions of visitors every year., Standing 330 meters (1,083 feet) tall, it was the tallest man-made structure in the world for 41 years until the Chrysler Building in New York City was finished in 1930.\\nThe Eiffel Tower is one of the most-visited paid monuments in the world, attracting millions of visitors every year., The Eiffel Tower is a wrought-iron lattice tower located in Paris, France.\\nIt was designed by the French engineer Gustave Eiffel and was completed in 1889 as the entrance arch to the 1889 World’s Fair.]</td>\n",
       "      <td>The text doesn't explicitly state what the \"it\" refers to, but based on the context, it can be inferred that \"it\" is the Eiffel Tower. \\n\\nAccording to the text, the Eiffel Tower was the tallest man-made structure in the world for 41 years until the Chrysler Building in New York City was finished in 1930. Therefore, the Chrysler Building was the tallest man-made structure before the Eiffel Tower.</td>\n",
       "      <td>The Eiffel Tower was the tallest man-made structure until the Chrysler Building was finished in 1930.</td>\n",
       "      <td>1.0</td>\n",
       "      <td>1.0</td>\n",
       "      <td>0.666667</td>\n",
       "      <td>0.000000</td>\n",
       "    </tr>\n",
       "    <tr>\n",
       "      <th>4</th>\n",
       "      <td>What is located on the third level of the tower?</td>\n",
       "      <td>[It has three levels accessible to the public, with restaurants on the first two levels and an observation deck on the third level., It has three levels accessible to the public, with restaurants on the first two levels and an observation deck on the third level., It has three levels accessible to the public, with restaurants on the first two levels and an observation deck on the third level., The Eiffel Tower is a wrought-iron lattice tower located in Paris, France.\\nIt was designed by the French engineer Gustave Eiffel and was completed in 1889 as the entrance arch to the 1889 World’s Fair.]</td>\n",
       "      <td>According to the context, an observation deck is located on the third level of the tower.</td>\n",
       "      <td>The third level of the Eiffel Tower has an observation deck.</td>\n",
       "      <td>1.0</td>\n",
       "      <td>1.0</td>\n",
       "      <td>1.000000</td>\n",
       "      <td>0.877183</td>\n",
       "    </tr>\n",
       "  </tbody>\n",
       "</table>\n",
       "</div>"
      ],
      "text/plain": [
       "                                           user_input  \\\n",
       "0                      Who designed the Eiffel Tower?   \n",
       "1                When was the Eiffel Tower completed?   \n",
       "2                       How tall is the Eiffel Tower?   \n",
       "3  What was the tallest man-made structure before it?   \n",
       "4    What is located on the third level of the tower?   \n",
       "\n",
       "                                                                                                                                                                                                                                                                                                                                                                                                                                                                                                                                                                                                                                                                                                                                                                                                                                                                                                                                                                                                                                                                                                retrieved_contexts  \\\n",
       "0                                                                                                                                                                            [The Eiffel Tower is a wrought-iron lattice tower located in Paris, France.\\nIt was designed by the French engineer Gustave Eiffel and was completed in 1889 as the entrance arch to the 1889 World’s Fair., The Eiffel Tower is a wrought-iron lattice tower located in Paris, France.\\nIt was designed by the French engineer Gustave Eiffel and was completed in 1889 as the entrance arch to the 1889 World’s Fair., The Eiffel Tower is a wrought-iron lattice tower located in Paris, France.\\nIt was designed by the French engineer Gustave Eiffel and was completed in 1889 as the entrance arch to the 1889 World’s Fair., Standing 330 meters (1,083 feet) tall, it was the tallest man-made structure in the world for 41 years until the Chrysler Building in New York City was finished in 1930.\\nThe Eiffel Tower is one of the most-visited paid monuments in the world, attracting millions of visitors every year.]   \n",
       "1                                                                                                                                                                            [The Eiffel Tower is a wrought-iron lattice tower located in Paris, France.\\nIt was designed by the French engineer Gustave Eiffel and was completed in 1889 as the entrance arch to the 1889 World’s Fair., The Eiffel Tower is a wrought-iron lattice tower located in Paris, France.\\nIt was designed by the French engineer Gustave Eiffel and was completed in 1889 as the entrance arch to the 1889 World’s Fair., The Eiffel Tower is a wrought-iron lattice tower located in Paris, France.\\nIt was designed by the French engineer Gustave Eiffel and was completed in 1889 as the entrance arch to the 1889 World’s Fair., Standing 330 meters (1,083 feet) tall, it was the tallest man-made structure in the world for 41 years until the Chrysler Building in New York City was finished in 1930.\\nThe Eiffel Tower is one of the most-visited paid monuments in the world, attracting millions of visitors every year.]   \n",
       "2  [Standing 330 meters (1,083 feet) tall, it was the tallest man-made structure in the world for 41 years until the Chrysler Building in New York City was finished in 1930.\\nThe Eiffel Tower is one of the most-visited paid monuments in the world, attracting millions of visitors every year., Standing 330 meters (1,083 feet) tall, it was the tallest man-made structure in the world for 41 years until the Chrysler Building in New York City was finished in 1930.\\nThe Eiffel Tower is one of the most-visited paid monuments in the world, attracting millions of visitors every year., Standing 330 meters (1,083 feet) tall, it was the tallest man-made structure in the world for 41 years until the Chrysler Building in New York City was finished in 1930.\\nThe Eiffel Tower is one of the most-visited paid monuments in the world, attracting millions of visitors every year., The Eiffel Tower is a wrought-iron lattice tower located in Paris, France.\\nIt was designed by the French engineer Gustave Eiffel and was completed in 1889 as the entrance arch to the 1889 World’s Fair.]   \n",
       "3  [Standing 330 meters (1,083 feet) tall, it was the tallest man-made structure in the world for 41 years until the Chrysler Building in New York City was finished in 1930.\\nThe Eiffel Tower is one of the most-visited paid monuments in the world, attracting millions of visitors every year., Standing 330 meters (1,083 feet) tall, it was the tallest man-made structure in the world for 41 years until the Chrysler Building in New York City was finished in 1930.\\nThe Eiffel Tower is one of the most-visited paid monuments in the world, attracting millions of visitors every year., Standing 330 meters (1,083 feet) tall, it was the tallest man-made structure in the world for 41 years until the Chrysler Building in New York City was finished in 1930.\\nThe Eiffel Tower is one of the most-visited paid monuments in the world, attracting millions of visitors every year., The Eiffel Tower is a wrought-iron lattice tower located in Paris, France.\\nIt was designed by the French engineer Gustave Eiffel and was completed in 1889 as the entrance arch to the 1889 World’s Fair.]   \n",
       "4                                                                                                                                                                                                                                                                                                                                                                                                                                                                                         [It has three levels accessible to the public, with restaurants on the first two levels and an observation deck on the third level., It has three levels accessible to the public, with restaurants on the first two levels and an observation deck on the third level., It has three levels accessible to the public, with restaurants on the first two levels and an observation deck on the third level., The Eiffel Tower is a wrought-iron lattice tower located in Paris, France.\\nIt was designed by the French engineer Gustave Eiffel and was completed in 1889 as the entrance arch to the 1889 World’s Fair.]   \n",
       "\n",
       "                                                                                                                                                                                                                                                                                                                                                                                                          response  \\\n",
       "0                                                                                                                                                                                                                                                                                                                                                                                                  Gustave Eiffel.   \n",
       "1                                                                                                                                                                                                                                                                                                                                                                          The Eiffel Tower was completed in 1889.   \n",
       "2                                                                                                                                                                                                                                                                                                                                                       The Eiffel Tower is standing 330 meters (1,083 feet) tall.   \n",
       "3  The text doesn't explicitly state what the \"it\" refers to, but based on the context, it can be inferred that \"it\" is the Eiffel Tower. \\n\\nAccording to the text, the Eiffel Tower was the tallest man-made structure in the world for 41 years until the Chrysler Building in New York City was finished in 1930. Therefore, the Chrysler Building was the tallest man-made structure before the Eiffel Tower.   \n",
       "4                                                                                                                                                                                                                                                                                                                        According to the context, an observation deck is located on the third level of the tower.   \n",
       "\n",
       "                                                                                               reference  \\\n",
       "0                                   The Eiffel Tower was designed by the French engineer Gustave Eiffel.   \n",
       "1                  The Eiffel Tower was completed in 1889 as the entrance arch to the 1889 World’s Fair.   \n",
       "2                                                      The Eiffel Tower is 330 meters (1,083 feet) tall.   \n",
       "3  The Eiffel Tower was the tallest man-made structure until the Chrysler Building was finished in 1930.   \n",
       "4                                           The third level of the Eiffel Tower has an observation deck.   \n",
       "\n",
       "   context_precision  context_recall  faithfulness  answer_relevancy  \n",
       "0                1.0             1.0      1.000000          1.000000  \n",
       "1                1.0             1.0      1.000000          1.000000  \n",
       "2                1.0             1.0      1.000000          1.000000  \n",
       "3                1.0             1.0      0.666667          0.000000  \n",
       "4                1.0             1.0      1.000000          0.877183  "
      ]
     },
     "execution_count": 63,
     "metadata": {},
     "output_type": "execute_result"
    }
   ],
   "source": [
    "result.to_pandas()"
   ]
  },
  {
   "cell_type": "code",
   "execution_count": 64,
   "metadata": {},
   "outputs": [
    {
     "data": {
      "image/png": "[encoded data removed]",
      "text/plain": [
       "<Figure size 1000x800 with 2 Axes>"
      ]
     },
     "metadata": {},
     "output_type": "display_data"
    }
   ],
   "source": [
    "import seaborn as sns\n",
    "import matplotlib.pyplot as plt\n",
    "from matplotlib.colors import LinearSegmentedColormap\n",
    "\n",
    "df = result.to_pandas()\n",
    "\n",
    "heatmap_data = df[\n",
    "    [\n",
    "        \"context_precision\",\n",
    "        \"context_recall\",\n",
    "        \"faithfulness\",\n",
    "        \"answer_relevancy\",\n",
    "    ]\n",
    "]\n",
    "\n",
    "cmap = LinearSegmentedColormap.from_list(\"green_red\", [\"red\", \"green\"])\n",
    "\n",
    "plt.figure(figsize=(10, 8))\n",
    "sns.heatmap(heatmap_data, annot=True, fmt=\".2f\", linewidths=0.5, cmap=cmap)\n",
    "\n",
    "plt.yticks(ticks=range(len(df[\"user_input\"])), labels=df[\"user_input\"], rotation=0)\n",
    "\n",
    "plt.show()"
   ]
  },
  {
   "cell_type": "code",
   "execution_count": 65,
   "metadata": {},
   "outputs": [
    {
     "name": "stdout",
     "output_type": "stream",
     "text": [
      "user_input                                                                                                                                                                                                                                                                                                                                                                                                                                                                                                                                                                                                                                                                                                                                                                                                                                                                                                                   Who designed the Eiffel Tower?\n",
      "retrieved_contexts    [The Eiffel Tower is a wrought-iron lattice tower located in Paris, France.\\nIt was designed by the French engineer Gustave Eiffel and was completed in 1889 as the entrance arch to the 1889 World’s Fair., The Eiffel Tower is a wrought-iron lattice tower located in Paris, France.\\nIt was designed by the French engineer Gustave Eiffel and was completed in 1889 as the entrance arch to the 1889 World’s Fair., The Eiffel Tower is a wrought-iron lattice tower located in Paris, France.\\nIt was designed by the French engineer Gustave Eiffel and was completed in 1889 as the entrance arch to the 1889 World’s Fair., Standing 330 meters (1,083 feet) tall, it was the tallest man-made structure in the world for 41 years until the Chrysler Building in New York City was finished in 1930.\\nThe Eiffel Tower is one of the most-visited paid monuments in the world, attracting millions of visitors every year.]\n",
      "response                                                                                                                                                                                                                                                                                                                                                                                                                                                                                                                                                                                                                                                                                                                                                                                                                                                                                                                                    Gustave Eiffel.\n",
      "reference                                                                                                                                                                                                                                                                                                                                                                                                                                                                                                                                                                                                                                                                                                                                                                                                                                                                              The Eiffel Tower was designed by the French engineer Gustave Eiffel.\n",
      "context_precision                                                                                                                                                                                                                                                                                                                                                                                                                                                                                                                                                                                                                                                                                                                                                                                                                                                                                                                                       1.0\n",
      "context_recall                                                                                                                                                                                                                                                                                                                                                                                                                                                                                                                                                                                                                                                                                                                                                                                                                                                                                                                                          1.0\n",
      "faithfulness                                                                                                                                                                                                                                                                                                                                                                                                                                                                                                                                                                                                                                                                                                                                                                                                                                                                                                                                            1.0\n",
      "answer_relevancy                                                                                                                                                                                                                                                                                                                                                                                                                                                                                                                                                                                                                                                                                                                                                                                                                                                                                                                                        1.0\n",
      "Name: 0, dtype: object\n"
     ]
    }
   ],
   "source": [
    "pd.set_option('display.max_colwidth', None) \n",
    "print(df.iloc[0])"
   ]
  }
 ],
 "metadata": {
  "kernelspec": {
   "display_name": "rag",
   "language": "python",
   "name": "python3"
  },
  "language_info": {
   "codemirror_mode": {
    "name": "ipython",
    "version": 3
   },
   "file_extension": ".py",
   "mimetype": "text/x-python",
   "name": "python",
   "nbconvert_exporter": "python",
   "pygments_lexer": "ipython3",
   "version": "3.10.15"
  }
 },
 "nbformat": 4,
 "nbformat_minor": 2
}
